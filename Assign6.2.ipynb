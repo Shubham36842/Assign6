{
 "cells": [
  {
   "cell_type": "raw",
   "id": "9f6b2f0e-9bb4-4832-bd65-de668f5aee3c",
   "metadata": {},
   "source": [
    "Q1. What is MongoDB? Explain non-relational databases in short. In which scenarios it is preferred to use MongoDB over SQL databases?\n"
   ]
  },
  {
   "cell_type": "raw",
   "id": "27a29495-aae5-44a6-8548-19925e9d4c0d",
   "metadata": {},
   "source": [
    "Ans-MangoDB is a Document oriented database.it is based of NoSQL and Stored data in JSON         format.\n",
    "    Non-relational database means does not contain or store data in row or clounm format and     data of specfic type.\n",
    "    Mongo bd is used for structured,unstructured and semi-structure huge amount of               data.MongoDB is faster and more scalable."
   ]
  },
  {
   "cell_type": "raw",
   "id": "e4b7ca3e-10bf-4f95-934a-42a312efacc7",
   "metadata": {},
   "source": [
    "Q2. State and Explain the features of MongoDB."
   ]
  },
  {
   "cell_type": "raw",
   "id": "5c1d2b46-83b1-44b7-95ac-dec6b6b0e740",
   "metadata": {},
   "source": [
    "Schema-less Database: It is the great feature provided by the MongoDB. A Schema-less database                       means one collection can hold different types of documents in it\n",
    "\n",
    "Document Oriented: In MongoDB, all the data stored in the documents instead of tables like in                    RDBMS.\n",
    "\n",
    "Indexing: In MongoDB database, every field in the documents is indexed with primary and                 secondary indices this makes easier and takes less time to get or search data from           the pool of the data.\n",
    "\n",
    "Scalability: MongoDB provides horizontal scalability with the help of sharding.\n",
    "\n",
    "Replication: MongoDB provides high availability and redundancy with the help of replication.\n",
    "\n",
    "Aggregation: It allows to perform operations on the grouped data and get a single result or                computed result. It is similar to the SQL GROUPBY clause.\n",
    "\n",
    "High Performance: The performance of MongoDB is very high and data persistence as compared to                   another database due to its features like scalability, indexing,                             replication, etc."
   ]
  },
  {
   "cell_type": "raw",
   "id": "23e07d56-db29-4d21-a981-6dde50769904",
   "metadata": {},
   "source": [
    "Q3. Write a code to connect MongoDB to Python. Also, create a database and a collection in MongoDB.\n"
   ]
  },
  {
   "cell_type": "code",
   "execution_count": null,
   "id": "bf0ba39d-7fd3-4c59-859b-c5607458af60",
   "metadata": {},
   "outputs": [],
   "source": [
    "# importing module\n",
    "from pymongo import MongoClient\n",
    "\n",
    "# creation of MongoClient\n",
    "client=MongoClient()\n",
    "\n",
    "# Connect with the portnumber and host\n",
    "client = MongoClient(“mongodb://localhost:27017/”)\n",
    "\n",
    "# Access database\n",
    "mydatabase = client[‘name_of_the_database’]\n",
    "\n",
    "# Access collection of the database\n",
    "mycollection=mydatabase[‘myTable’]\n",
    "\n",
    "# dictionary to be added in the database\n",
    "record={\n",
    "title: 'MongoDB and Python',\n",
    "description: 'MongoDB is no SQL database',\n",
    "tags: ['mongodb', 'database', 'NoSQL'],\n",
    "viewers: 104\n",
    "}\n",
    "\n",
    "# inserting the data in the database\n",
    "record = mydatabase.myTable.insert(record)\n"
   ]
  },
  {
   "cell_type": "raw",
   "id": "a93b4bfd-6e33-4d1a-af81-e991409cb3e2",
   "metadata": {},
   "source": [
    "Q4. Using the database and the collection created in question number 3, write a code to insert one record,and insert many records. Use the find() and find_one() methods to print the inserted record.\n"
   ]
  },
  {
   "cell_type": "code",
   "execution_count": null,
   "id": "72f1ff7e-8fdc-4c20-ae8d-ea7ca08e4dbd",
   "metadata": {},
   "outputs": [],
   "source": [
    "# importing module\n",
    "from pymongo import MongoClient\n",
    "\n",
    "# creation of MongoClient\n",
    "client=MongoClient()\n",
    "\n",
    "# Connect with the portnumber and host\n",
    "client = MongoClient(“mongodb://localhost:27017/”)\n",
    "\n",
    "# Access database\n",
    "mydatabase = client[‘name_of_the_database’]\n",
    "\n",
    "# Access collection of the database\n",
    "mycollection=mydatabase[‘myTable’]\n",
    "\n",
    "# dictionary to be added in the database\n",
    "record={\n",
    "{title: 'MongoDB and Python1',\n",
    "description: 'MongoDB is no SQL database',\n",
    "tags: ['mongodb1', 'database1', 'NoSQL1'],\n",
    "viewers: 104\n",
    "},\n",
    "{\n",
    "title: 'MongoDB and Python2',\n",
    "description: 'MongoDB is no SQL database',\n",
    "tags: ['mongodb2', 'database2', 'NoSQL2'],\n",
    "viewers: 100\n",
    "}\n",
    "    \n",
    "}\n",
    "\n",
    "# inserting the data in the database\n",
    "rec1 = mydatabase.myTable.insertone(record)\n",
    "\n",
    "rec1=mydatabase.myTable.insertmany(record)\n",
    "for i in mydatabase.myTable.find({title: 'MongoDB and Python'})\n",
    "\tprint(i)\n",
    "for i in mydatabase.myTable.findone({title: 'MongoDB and Python'})\n",
    "\tprint(i)\n"
   ]
  },
  {
   "cell_type": "raw",
   "id": "4609fc4b-9475-40fa-8c67-a910573da9b2",
   "metadata": {},
   "source": [
    "Q5. Explain how you can use the find() method to query the MongoDB database. Write a simple code to demonstrate this."
   ]
  },
  {
   "cell_type": "raw",
   "id": "d15b794b-bec4-4d80-922d-8a6eb2179c1b",
   "metadata": {},
   "source": [
    "Ans-find() is used to get more than one single document as a result of query."
   ]
  },
  {
   "cell_type": "code",
   "execution_count": null,
   "id": "46c9d3b5-33d5-4ef2-aab6-d09e7aaf298f",
   "metadata": {},
   "outputs": [],
   "source": [
    "# importing module\n",
    "from pymongo import MongoClient\n",
    "\n",
    "# creation of MongoClient\n",
    "client=MongoClient()\n",
    "\n",
    "# Connect with the portnumber and host\n",
    "client = MongoClient(“mongodb://localhost:27017/”)\n",
    "\n",
    "# Access database\n",
    "mydatabase = client[‘name_of_the_database’]\n",
    "\n",
    "# Access collection of the database\n",
    "mycollection=mydatabase[‘myTable’]\n",
    "\n",
    "# dictionary to be added in the database\n",
    "record={\n",
    "{\n",
    "title: 'MongoDB and Python',\n",
    "description: 'MongoDB is no SQL database',\n",
    "tags: ['mongodb', 'database', 'NoSQL'],\n",
    "viewers: 104\n",
    "},\n",
    "{\n",
    "    title: 'MongoDB and Python',\n",
    "description: 'MongoDB is no SQL database1',\n",
    "tags: ['mongodb1', 'database1', 'NoSQL1'],\n",
    "viewers: 100\n",
    "}\n",
    "}\n",
    "\n",
    "# inserting the data in the database\n",
    "record = mydatabase.myTable.insert(record)\n",
    "for i in mydatabase.myTable.find({title: 'MongoDB and Python'})\n",
    "\tprint(i)"
   ]
  },
  {
   "cell_type": "raw",
   "id": "381109b4-cfea-49c0-bee4-c12ab2d61bf0",
   "metadata": {},
   "source": [
    "Q6. Explain the sort() method. Give an example to demonstrate sorting in MongoDB.\n"
   ]
  },
  {
   "cell_type": "raw",
   "id": "a9cacdf1-1621-42bb-ac9d-5c0186ff4f26",
   "metadata": {},
   "source": [
    "The sort() method specifies the order in which the query returns the matching documents from the given collection. You must apply this method to the cursor before retrieving any documents from the database.The value is 1 or -1 specifying an ascending or descending sort respectively."
   ]
  },
  {
   "cell_type": "raw",
   "id": "c9a289a4-3a9d-4699-8784-bd5bfa1326c8",
   "metadata": {},
   "source": [
    "Example- Database: pw\n",
    "\n",
    "Collections: student\n",
    "\n",
    "Document: Four documents contains name and age of the students\n",
    "  \n",
    " db.student.find().sort({age:1})\n",
    " {\"_id\": Objectid(x), \"name\":\"bablu\", \"age\":15 }\n",
    " {\"_id\":Objectid(y),\"name\":\"somu\",\"age\":20}\n",
    " {\"_id\":Objectid(z),\"name\":\"ketan\".\"age\":25}"
   ]
  },
  {
   "cell_type": "raw",
   "id": "44281086-e8d2-4932-8cb1-d67fc7100c1d",
   "metadata": {},
   "source": [
    "Q7. Explain why delete_one(), delete_many(), and drop() is used."
   ]
  },
  {
   "cell_type": "raw",
   "id": "67452586-8f6e-4aa0-a2e0-69b2e0e4e6f6",
   "metadata": {},
   "source": [
    "Ans-delete_one()-used to delete one  document from a collection.\n",
    "     "
   ]
  }
 ],
 "metadata": {
  "kernelspec": {
   "display_name": "Python 3 (ipykernel)",
   "language": "python",
   "name": "python3"
  },
  "language_info": {
   "codemirror_mode": {
    "name": "ipython",
    "version": 3
   },
   "file_extension": ".py",
   "mimetype": "text/x-python",
   "name": "python",
   "nbconvert_exporter": "python",
   "pygments_lexer": "ipython3",
   "version": "3.10.8"
  }
 },
 "nbformat": 4,
 "nbformat_minor": 5
}
