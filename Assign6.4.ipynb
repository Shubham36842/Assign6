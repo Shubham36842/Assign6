{
 "cells": [
  {
   "cell_type": "raw",
   "id": "f8569e69-ee94-4d91-bcc5-f42ea657036d",
   "metadata": {},
   "source": [
    "Q1. What is Flask Framework? What are the advantages of Flask Framework?\n"
   ]
  },
  {
   "cell_type": "raw",
   "id": "e5cd3696-2538-4694-8fcb-add3b1ef0234",
   "metadata": {},
   "source": [
    "Ans-Flask allows you to build a web application by providing tools, libraries, and               technologies. This web application will be a web page, a wiki, or a big web-based             calendar application or commercial website. Flask is classified into a micro-framework       that means it has little to no dependencies on external libraries.\n",
    "\n",
    "Advantages:\n",
    "1.It is a lightweight framework that offers hassle-free development.\n",
    "2.Provide flexibility to the developer to experiment with their modules or architecture.\n",
    "3.It is suitable for small projects.\n",
    "4.Offers a built-in development server and fast debugger.\n",
    "5.Easily scalable for the applications.\n",
    "6.Support for secure cookies"
   ]
  },
  {
   "cell_type": "raw",
   "id": "666b9a68-5af0-4815-b527-0d95653ff429",
   "metadata": {},
   "source": [
    "Q2. Create a simple Flask application to display ‘Hello World!!’. Attach the screenshot of the output in Jupyter Notebook.\n"
   ]
  },
  {
   "cell_type": "code",
   "execution_count": null,
   "id": "86d2b3b4-17ba-4325-8fe6-5d4c61817a26",
   "metadata": {},
   "outputs": [],
   "source": [
    "from flask import Flask\n",
    "\n",
    "app = Flask(__name__)\n",
    "\n",
    "@app.route(\"/\")\n",
    "def Hello_World():\n",
    "    return \"Hello World!!\"\n",
    "if __name__==\"__main__\":\n",
    "    app.run(host=\"0.0.0.0\")\n"
   ]
  },
  {
   "cell_type": "markdown",
   "id": "c4227e0f-013f-4a11-8d51-685033532851",
   "metadata": {},
   "source": [
    "https://github.com/Shubham36842/Assign6/blob/main/Screenshot%20from%202023-07-13%2012-29-15.png"
   ]
  },
  {
   "cell_type": "raw",
   "id": "fa3f20e8-495d-4ff1-8bc5-61b28695e7f2",
   "metadata": {},
   "source": [
    "Q3. What is App routing in Flask? Why do we use app routes?"
   ]
  },
  {
   "cell_type": "raw",
   "id": "a2cc972e-1347-4377-96da-8d171014163e",
   "metadata": {},
   "source": [
    "Ans-App routing is the technique used to map the specific URL with the associated function       intended to perform some task.\n",
    "\n",
    "    The route() decorator in Flask is used to bind an URL to a function. "
   ]
  },
  {
   "cell_type": "raw",
   "id": "860a60c7-c249-444b-a2c3-2a6265e593ad",
   "metadata": {},
   "source": [
    "Q4. Create a “/welcome” route to display the welcome message “Welcome to ABC Corporation” and a “/”\n",
    "route to show the following details:\n",
    "\n",
    "Company Name: ABC Corporation\n",
    "\n",
    "Location: India\n",
    "\n",
    "Contact Detail: 999-999-9999 \n"
   ]
  },
  {
   "cell_type": "code",
   "execution_count": null,
   "id": "d6827317-2011-4e7f-8c89-e4e5eb235759",
   "metadata": {},
   "outputs": [],
   "source": [
    "from flask import Flask\n",
    "\n",
    "app = Flask(__name__)\n",
    "\n",
    "@app.route(\"/\")\n",
    "def Details():\n",
    "    return \"<h1>Company Name: ABC Corporation</br>Location: India</br>Contact Detail: 999-999-9999</h1>\"\n",
    "@app.route(\"/Welcome\")\n",
    "def welcome():\n",
    "    return \"Welcome to ABC coperation\"\n",
    "if __name__==\"__main__\":\n",
    "    app.run(host=\"0.0.0.0\")\n"
   ]
  },
  {
   "cell_type": "markdown",
   "id": "1d408af8-8491-4800-99b0-2befc010510f",
   "metadata": {},
   "source": [
    "https://github.com/Shubham36842/Assign6/blob/main/Screenshot%20from%202023-07-13%2012-41-25.png"
   ]
  },
  {
   "cell_type": "markdown",
   "id": "256b10c6-d604-48f5-9de3-7e9efc8275da",
   "metadata": {},
   "source": [
    "https://github.com/Shubham36842/Assign6/blob/main/Screenshot%20from%202023-07-13%2012-41-13.png"
   ]
  },
  {
   "cell_type": "raw",
   "id": "e81cec39-5d92-4a2d-9075-7c86206d5fa4",
   "metadata": {},
   "source": [
    "Q5. What function is used in Flask for URL Building? Write a Python code to demonstrate the working of the\n",
    "url_for() function."
   ]
  },
  {
   "cell_type": "raw",
   "id": "3d3b6912-6502-422c-b571-be21d7894e96",
   "metadata": {},
   "source": [
    "Ans-url_for() function is used to build a URL to the specific function dynamically. The first     argument is the name of the specified function, and then we can pass any number of           keyword argument corresponding to the variable part of the URL."
   ]
  },
  {
   "cell_type": "code",
   "execution_count": null,
   "id": "c266fdff-e054-43a9-9738-4c1f28c8b0d4",
   "metadata": {},
   "outputs": [],
   "source": [
    "from flask import Flask, redirect, url_for\n",
    "app = Flask(__name__)\n",
    "\n",
    "@app.route('/admin')\n",
    "def hello_admin():\n",
    "   return 'Hello Admin'\n",
    "\n",
    "@app.route('/guest/<guest>')\n",
    "def hello_guest(guest):\n",
    "   return 'Hello %s as Guest' % guest\n",
    "\n",
    "@app.route('/user/<name>')\n",
    "def hello_user(name):\n",
    "   if name =='admin':\n",
    "      return redirect(url_for('hello_admin'))\n",
    "   else:\n",
    "      return redirect(url_for('hello_guest',guest = name))\n",
    "\n",
    "if __name__ == '__main__':\n",
    "   app.run(debug = True)"
   ]
  }
 ],
 "metadata": {
  "kernelspec": {
   "display_name": "Python 3 (ipykernel)",
   "language": "python",
   "name": "python3"
  },
  "language_info": {
   "codemirror_mode": {
    "name": "ipython",
    "version": 3
   },
   "file_extension": ".py",
   "mimetype": "text/x-python",
   "name": "python",
   "nbconvert_exporter": "python",
   "pygments_lexer": "ipython3",
   "version": "3.10.8"
  }
 },
 "nbformat": 4,
 "nbformat_minor": 5
}
