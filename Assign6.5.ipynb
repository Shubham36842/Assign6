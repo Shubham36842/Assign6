{
 "cells": [
  {
   "cell_type": "raw",
   "id": "326b4bb9-dbb9-4a5f-ab0a-09713f714fde",
   "metadata": {},
   "source": [
    "Q1. Explain GET and POST methods.\n"
   ]
  },
  {
   "cell_type": "raw",
   "id": "9e301426-430c-4462-8eb2-fb408ba54239",
   "metadata": {},
   "source": [
    "Ans:-\n",
    " GET- This method is used to pass the query(data) directly into URL \n",
    "      When somebody use this method then query is visible to everyone as it is associated           with URL.\n",
    "      \n",
    "POST- This method is uesd to pass the query(data) as a body of document not in directly URL.\n",
    "      this is safer method because query passed is visible to anyone"
   ]
  },
  {
   "cell_type": "raw",
   "id": "250bf633-9395-4660-964f-6b28d19bb001",
   "metadata": {},
   "source": [
    "Q2. Why is request used in Flask?\n"
   ]
  },
  {
   "cell_type": "raw",
   "id": "a1db7295-6798-4d06-82da-f0b2ed51c55b",
   "metadata": {},
   "source": [
    "Ans:-The request object contains all the data that is sent from the client to the server. As      we have already discussed in the tutorial, we can retrieve the data at the server side        using the HTTP methods."
   ]
  },
  {
   "cell_type": "raw",
   "id": "c403ba5c-476a-4601-acee-6c47144d1ae1",
   "metadata": {},
   "source": [
    "Q3. Why is redirect() used in Flask?\n"
   ]
  },
  {
   "cell_type": "raw",
   "id": "d8f9ec5b-56b5-42ea-a21d-54c739036975",
   "metadata": {},
   "source": [
    "Ans:-Flask redirect is defined as a function or utility in Flask which allows developers to        redirect users to a specified URL and assign a specified status code."
   ]
  },
  {
   "cell_type": "raw",
   "id": "f4c884db-f89c-4e8b-a66d-3af2e54c4322",
   "metadata": {},
   "source": [
    "Q4. What are templates in Flask? Why is the render_template() function used?\n"
   ]
  },
  {
   "cell_type": "raw",
   "id": "9fd88601-6b0c-4e7f-bebe-a0267fcfbc99",
   "metadata": {},
   "source": [
    "Ans:-Templates help you reuse visuals. In all web apps, the visuals are reused. This helps        you divide the business and presentation logic.Templates are files that contain static        data as well as placeholders for dynamic data. A template is rendered with specific data      to produce a final document. Flask uses the Jinja template library to render templates.\n",
    "  \n",
    "    render_template() method is used to send and show templates to the receiver through URL.\n",
    "    This method is available in python"
   ]
  },
  {
   "cell_type": "raw",
   "id": "446ceebf-248f-4adf-ba41-122cd7c645bc",
   "metadata": {},
   "source": [
    "Q5. Create a simple API. Use Postman to test it. Attach the screenshot of the output in the Jupyter Notebook."
   ]
  },
  {
   "cell_type": "code",
   "execution_count": null,
   "id": "c6cde9ca-7776-4f12-a0b8-9e1cb473df7a",
   "metadata": {},
   "outputs": [],
   "source": [
    "from flask import Flask,request ,render_template , jsonify\n",
    "\n",
    "app = Flask(__name__)\n",
    "\n",
    "@app.route('/postman_action',methods=['POST'])\n",
    "def math_ops1():\n",
    "    if(request.method == 'POST'):\n",
    "        ops = request.json['operation']\n",
    "        num1 = int(request.json['num1'])\n",
    "        num2 = int(request.json['num2'])\n",
    "        if ops == 'add':\n",
    "            r = num1+num2\n",
    "            result = \"The sum of \" + str(num1) + 'and ' + str(num2) + \"is \" + str(r)\n",
    "        if ops == 'subtract':\n",
    "            r = num1-num2\n",
    "            result = \"The subtract of \" + str(num1) + 'and ' + str(num2) + \"is \" + str(r)\n",
    "        if ops == 'multiply':\n",
    "            r = num1*num2\n",
    "            result = \"The multiply of \" + str(num1) + 'and ' + str(num2) + \"is \" + str(r)\n",
    "        if ops == 'divide':\n",
    "            r = num1/num2\n",
    "            result = \"The divide of \" + str(num1) + 'and ' + str(num2) + \"is \" + str(r)\n",
    "            \n",
    "        return jsonify(result)\n",
    "\n",
    "if __name__==\"__main__\":\n",
    "    app.run(host=\"0.0.0.0\")\n"
   ]
  },
  {
   "cell_type": "markdown",
   "id": "ff175532-bb66-4002-9469-4c2727cb2aa5",
   "metadata": {},
   "source": []
  }
 ],
 "metadata": {
  "kernelspec": {
   "display_name": "Python 3 (ipykernel)",
   "language": "python",
   "name": "python3"
  },
  "language_info": {
   "codemirror_mode": {
    "name": "ipython",
    "version": 3
   },
   "file_extension": ".py",
   "mimetype": "text/x-python",
   "name": "python",
   "nbconvert_exporter": "python",
   "pygments_lexer": "ipython3",
   "version": "3.10.8"
  }
 },
 "nbformat": 4,
 "nbformat_minor": 5
}
