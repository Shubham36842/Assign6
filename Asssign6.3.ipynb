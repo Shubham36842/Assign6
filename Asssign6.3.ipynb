{
 "cells": [
  {
   "cell_type": "raw",
   "id": "f108a06a-ec46-46cb-a4d1-fbf8525ac48c",
   "metadata": {},
   "source": [
    "Q1. What is an API? Give an example, where an API is used in real life.\n"
   ]
  },
  {
   "cell_type": "raw",
   "id": "72fc5330-3166-4fe4-b0b6-d95efc448195",
   "metadata": {},
   "source": [
    "Ans-API stands for Application programmable Interface.API are used for communiction between       application running of same or distinct machine.API provides the way of executing methods     of a application through web .\n",
    "\n",
    "    Some examples of API integrations are when automatic data sync to the cloud from your         phone image gallery, or the time and date automatically sync on your laptop when you         travel to another time zone.\n",
    "    \n",
    "    APIs power everything from searching for the weather on Google to connecting with friends     on Facebook, purchasing with PayPal, and communicating with a Twitter bot."
   ]
  },
  {
   "cell_type": "raw",
   "id": "061c2dd2-0014-4590-8ceb-e6249f0b5ee3",
   "metadata": {},
   "source": [
    "Q2. Give advantages and disadvantages of using API. \n"
   ]
  },
  {
   "cell_type": "raw",
   "id": "6e96225a-abad-478e-97a7-91aecf071fcc",
   "metadata": {},
   "source": [
    "Advantages:\n",
    "    1.Increased Interoperability\n",
    "    2.Improved Efficiency\n",
    "    3.Better User Experience\n",
    "    4.Increased Flexibility\n",
    "    \n",
    "Disadvantages:\n",
    "    1.Security Concerns\n",
    "    2.Compatibility Issues\n",
    "    3.Dependency on Third-Party Developers\n",
    "    4.Governance and Management"
   ]
  },
  {
   "cell_type": "raw",
   "id": "6defb18f-3fdc-4721-8beb-242ce69120bc",
   "metadata": {},
   "source": [
    "Q3. What is a Web API? Differentiate between API and Web API.\n"
   ]
  },
  {
   "cell_type": "raw",
   "id": "bec350b8-00f2-4103-8da4-3f1d4c3a9bd7",
   "metadata": {},
   "source": [
    "Ans:-web API are those API that uses HTTP protocal for communication.\n",
    "     communication is taken through HTTP protocal.\n",
    "     \n",
    "     API develope using many governing protocal like TCP/IP, HTTPS ,UPD/IP are called              Application Programmable Interface.\n",
    "     \n",
    "     Web API are the specific type of API that uses HTTP Protocal for communication"
   ]
  },
  {
   "cell_type": "raw",
   "id": "8eaa7372-1009-40ac-960b-1069814c0943",
   "metadata": {},
   "source": [
    "Q4. Explain REST and SOAP Architecture. Mention shortcomings of SOAP.\n"
   ]
  },
  {
   "cell_type": "raw",
   "id": "f4a92da0-fc97-4aa2-9fbe-1fe237dc24b6",
   "metadata": {},
   "source": [
    "Ans:-REST (Representational State Transfer) architecture using HTTP.Generally transports data      in JSON. It is based on URI. Because REST follows stateless model, REST does not              enforces message format as XML or JSON etc\n",
    "\n",
    "    SOAP (Simple Object Access Protocol).Transports data in standard XML format.Because it       is XML based and relies on SOAP, it works with WSDL.\n",
    "    \n",
    "    SOAP is difficult to implement and it requires more bandwidth whereas REST is easy to         implement and requires less bandwidth such as smartphones. Benefits of SOAP over REST as     SOAP has ACID compliance transaction."
   ]
  },
  {
   "cell_type": "raw",
   "id": "dee91964-feec-49ce-871b-c190f72f5fcf",
   "metadata": {},
   "source": [
    "Q5. Differentiate between REST and SOAP.\n"
   ]
  },
  {
   "cell_type": "raw",
   "id": "d54e9fe3-9a3d-455d-b2a9-e59fb9eae6af",
   "metadata": {},
   "source": [
    "REST API:-\n",
    "\n",
    "Relies on REST (Representational State Transfer) architecture using HTTP.\n",
    "\n",
    "Generally transports data in JSON. It is based on URI. Because REST follows stateless model, REST does not enforces message format as XML or JSON etc.\n",
    "\n",
    "It works with GET, POST, PUT, DELETE\n",
    "\n",
    "Less structured -> less bulky data\n",
    "\n",
    "Designed with mobile devices in mind\n",
    "\n",
    "SOAP API:-\n",
    "\n",
    "Relies on SOAP (Simple Object Access Protocol)\n",
    "\n",
    "Transports data in standard XML format\n",
    "\n",
    "Because it is XML based and relies on SOAP, it works with WSDL\n",
    "\n",
    "Works over HTTP, HTTPS, SMTP, XMPP\n",
    "\n",
    "Designed with large enterprise applications in mind\n"
   ]
  }
 ],
 "metadata": {
  "kernelspec": {
   "display_name": "Python 3 (ipykernel)",
   "language": "python",
   "name": "python3"
  },
  "language_info": {
   "codemirror_mode": {
    "name": "ipython",
    "version": 3
   },
   "file_extension": ".py",
   "mimetype": "text/x-python",
   "name": "python",
   "nbconvert_exporter": "python",
   "pygments_lexer": "ipython3",
   "version": "3.10.8"
  }
 },
 "nbformat": 4,
 "nbformat_minor": 5
}
