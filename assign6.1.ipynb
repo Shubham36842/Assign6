{
 "cells": [
  {
   "cell_type": "raw",
   "id": "35eb900f-c82b-4be7-b639-c5e9787a8393",
   "metadata": {},
   "source": [
    "Q1. What is a database? Differentiate between SQL and NoSQL databases.\n"
   ]
  },
  {
   "cell_type": "raw",
   "id": "6793567a-872c-46e2-819a-c11ae99fd616",
   "metadata": {},
   "source": [
    "Ans-Database is a collecton of large amount of data.Databse management system is used to         organise and Structure large amount od data at a place.\n",
    "\n",
    "1.SQLstands for structured Query Language while NoSQl for Not only SQL\n",
    "2.SQL store data in Tabular format while NoSQL in Document format like JSON, CSV\n",
    "3.SQL provide Transaction management while NoSQl does not.\n",
    "4.SQL store Structured data only while NoSQl any type of data."
   ]
  },
  {
   "cell_type": "raw",
   "id": "d333c7bc-61f3-4c14-8215-353e7e637234",
   "metadata": {},
   "source": [
    "Q2. What is DDL? Explain why CREATE, DROP, ALTER, and TRUNCATE are used with an example.\n"
   ]
  },
  {
   "cell_type": "raw",
   "id": "594e7e2d-f15d-4802-9bcc-65bf2fcd7095",
   "metadata": {},
   "source": [
    "Ans:- DDL stands for data definition language.DDl is uesd to define structure of schema in         database.\n",
    "     \n",
    "      CREATE: This command is used to create the database or its objects.\n",
    "              Example-CREATE TABLE Student(\n",
    "                                            Name string,\n",
    "                                            RollNo int,\n",
    "                                            addr string,\n",
    "                                              );\n",
    "\n",
    "      DROP: This command is used to delete objects from the database.\n",
    "            Example-DROP TABLE Student\n",
    "            \n",
    "      ALTER: This is used to alter the structure of the database.\n",
    "            Example-ALTER TABLE Student\n",
    "                    ADD Mobile no int;\n",
    "\n",
    "      TRUNCATE: This is used to remove all records from a table,\n",
    "            Example TRUNCATE TABLE Student;   "
   ]
  },
  {
   "cell_type": "raw",
   "id": "a21d4da2-7dfa-4088-9f3f-28b091d8df3d",
   "metadata": {},
   "source": [
    "Q3. What is DML? Explain INSERT, UPDATE, and DELETE with an example.\n"
   ]
  },
  {
   "cell_type": "raw",
   "id": "5a19e9b9-6b82-4744-9d22-6d5675cabfff",
   "metadata": {},
   "source": [
    "Ans-The SQL commands that deal with the manipulation of data present in the database belong       to DML or Data Manipulation Language and this includes most of the SQL statements.\n",
    " \n",
    "   INSERT: It is used to insert data into a table.\n",
    "           Example INSERT INTO Student values(Shubham,41 lucknow,988970564);\n",
    "   \n",
    "   UPDATE: It is used to update existing data within a table.\n",
    "           Example UPDATE Student \n",
    "                   SET Named= monu\n",
    "                   where name=shubham\n",
    "   \n",
    "   DELETE: It is used to delete records from a database table\n",
    "           Example-DELETE from Student\n",
    "                   where Name=shubham\n",
    "   "
   ]
  },
  {
   "cell_type": "raw",
   "id": "f54affa3-88d5-4cc3-8ff2-6f3e0212c242",
   "metadata": {},
   "source": [
    "Q4. What is DQL? Explain SELECT with an example"
   ]
  },
  {
   "cell_type": "raw",
   "id": "ec33761e-ad38-40bc-8103-aa47864b7b48",
   "metadata": {},
   "source": [
    "Ans-DQL commands are used for fetching data from a relational database. They perform read-       only queries of data\n",
    "    \n",
    "    SELECT-Select is one of the most important SQL commands. It is used to retrieve data from            a database. One can fetch either the entire table or some data according to                  specified rules.\n",
    "           example- SELECT* From Student\n",
    "           "
   ]
  },
  {
   "cell_type": "raw",
   "id": "2e253390-cd38-4a4a-8655-e622a23ec044",
   "metadata": {},
   "source": [
    "Q5. Explain Primary Key and Foreign Key.\n"
   ]
  },
  {
   "cell_type": "raw",
   "id": "6f2b0168-e84a-4a9b-88bd-ab11b8c53387",
   "metadata": {},
   "source": [
    "Ans-Primary key- a column that uniquely identify each record in a row.its value can't be null\n",
    "                 Example Roll No in a student table\n",
    "                 \n",
    "    Foreign key- a column of a table that is primary key of another table is called foreign \n",
    "                 table.\n",
    "                 Example rollno  in Student and Libraray detail table"
   ]
  },
  {
   "cell_type": "raw",
   "id": "51b6b2c6-9bb1-4ddd-9a57-2b4e107b9f90",
   "metadata": {},
   "source": [
    "Q6. Write a python code to connect MySQL to python. Explain the cursor() and execute() method.\n"
   ]
  },
  {
   "cell_type": "code",
   "execution_count": null,
   "id": "37d53b75-428c-459b-8742-abdce5eeaff3",
   "metadata": {},
   "outputs": [],
   "source": [
    "# importing required libraries\n",
    "import mysql.connector\n",
    "\n",
    "dataBase = mysql.connector.connect(\n",
    "host =\"localhost\",\n",
    "user =\"user\",\n",
    "passwd =\"password\"\n",
    ")\n",
    "\n",
    "print(dataBase)\n",
    "\n",
    "# Disconnecting from the server\n",
    "dataBase.close()\n"
   ]
  },
  {
   "cell_type": "raw",
   "id": "599816be-3ae2-4e71-8be9-e7bf891ad420",
   "metadata": {},
   "source": [
    "cursor()-You can create Cursor object using the cursor() method of the Connection                      object/class.\n",
    "execute()-This method accepts a MySQL query as a parameter and executes the given query."
   ]
  },
  {
   "cell_type": "raw",
   "id": "27913305-bd83-4ac4-b536-06cad4189891",
   "metadata": {},
   "source": [
    "Q7. Give the order of execution of SQL clauses in an SQL query."
   ]
  },
  {
   "cell_type": "raw",
   "id": "60befef3-dbf4-4bdc-b6c6-5e6ce0e037bb",
   "metadata": {},
   "source": [
    "1.from\n",
    "2.where\n",
    "3.order by\n",
    "4.having\n",
    "5.select"
   ]
  }
 ],
 "metadata": {
  "kernelspec": {
   "display_name": "Python 3 (ipykernel)",
   "language": "python",
   "name": "python3"
  },
  "language_info": {
   "codemirror_mode": {
    "name": "ipython",
    "version": 3
   },
   "file_extension": ".py",
   "mimetype": "text/x-python",
   "name": "python",
   "nbconvert_exporter": "python",
   "pygments_lexer": "ipython3",
   "version": "3.10.8"
  }
 },
 "nbformat": 4,
 "nbformat_minor": 5
}
